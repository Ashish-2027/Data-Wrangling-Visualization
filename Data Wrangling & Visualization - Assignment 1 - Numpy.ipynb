{
 "cells": [
  {
   "cell_type": "code",
   "execution_count": 2,
   "id": "83eeea13",
   "metadata": {},
   "outputs": [
    {
     "name": "stdout",
     "output_type": "stream",
     "text": [
      "[0. 0. 0. 0. 1. 0. 0. 0. 0. 0.]\n"
     ]
    }
   ],
   "source": [
    "# 1. Create a null vector of size 10 but the fifth value which is 1.\n",
    "import numpy as np\n",
    "arr = np.zeros(10)\n",
    "arr[4] = 1\n",
    "print(arr)"
   ]
  },
  {
   "cell_type": "code",
   "execution_count": 4,
   "id": "3c8e09ea",
   "metadata": {},
   "outputs": [
    {
     "data": {
      "text/plain": [
       "array([10, 11, 12, 13, 14, 15, 16, 17, 18, 19, 20, 21, 22, 23, 24, 25, 26,\n",
       "       27, 28, 29, 30, 31, 32, 33, 34, 35, 36, 37, 38, 39, 40, 41, 42, 43,\n",
       "       44, 45, 46, 47, 48, 49])"
      ]
     },
     "execution_count": 4,
     "metadata": {},
     "output_type": "execute_result"
    }
   ],
   "source": [
    "# 2. Create a vector with values ranging from 10 to 49.\n",
    "np.arange(10,50)"
   ]
  },
  {
   "cell_type": "code",
   "execution_count": 5,
   "id": "c345e667",
   "metadata": {},
   "outputs": [
    {
     "data": {
      "text/plain": [
       "array([[0, 1, 2],\n",
       "       [3, 4, 5],\n",
       "       [6, 7, 8]])"
      ]
     },
     "execution_count": 5,
     "metadata": {},
     "output_type": "execute_result"
    }
   ],
   "source": [
    "# 3. Create a 3x3 matrix with values ranging from 0 to 8\n",
    "arr = np.arange(0, 9)\n",
    "arr.reshape(3, 3)"
   ]
  },
  {
   "cell_type": "code",
   "execution_count": 6,
   "id": "14462964",
   "metadata": {},
   "outputs": [
    {
     "data": {
      "text/plain": [
       "(array([0, 1, 4], dtype=int64),)"
      ]
     },
     "execution_count": 6,
     "metadata": {},
     "output_type": "execute_result"
    }
   ],
   "source": [
    "# 4. Find indices of non-zero elements from [1,2,0,0,4,0]\n",
    "arr = np.array([1,2,0,0,4,0])\n",
    "np.nonzero(arr)"
   ]
  },
  {
   "cell_type": "code",
   "execution_count": 13,
   "id": "4c28fc91",
   "metadata": {},
   "outputs": [
    {
     "name": "stdout",
     "output_type": "stream",
     "text": [
      "[[0.54971564 0.56743043 0.0522322  0.03260249 0.01911978 0.06676442\n",
      "  0.83495677 0.66983547 0.56230427 0.37448517]\n",
      " [0.49472608 0.23854297 0.95725757 0.85101339 0.9830761  0.67281581\n",
      "  0.23278984 0.18228585 0.21783484 0.27237753]\n",
      " [0.67085112 0.09966208 0.87529256 0.82319703 0.18949057 0.08353301\n",
      "  0.54346153 0.64817818 0.52430231 0.18124735]\n",
      " [0.43578799 0.42303895 0.09428279 0.85996457 0.4460416  0.10037003\n",
      "  0.34315869 0.67540307 0.04946447 0.8716795 ]\n",
      " [0.28093016 0.92923543 0.76045283 0.60055297 0.81192925 0.33923564\n",
      "  0.98161414 0.61429777 0.18904768 0.06052056]\n",
      " [0.97622226 0.12824    0.37822841 0.53064821 0.57884089 0.59201828\n",
      "  0.24321579 0.5565775  0.61546947 0.42056569]\n",
      " [0.83561004 0.15194469 0.72596498 0.94102987 0.89915811 0.1458761\n",
      "  0.88427705 0.82276983 0.57102353 0.46658971]\n",
      " [0.96545485 0.24703895 0.24676043 0.08503636 0.16633709 0.24975826\n",
      "  0.53657016 0.94463924 0.32550016 0.44882288]\n",
      " [0.74105865 0.05326602 0.35890316 0.5367394  0.12775048 0.28436009\n",
      "  0.28343441 0.64503949 0.24694449 0.15068081]\n",
      " [0.02853258 0.14320699 0.54783857 0.53953312 0.32513933 0.2821772\n",
      "  0.04328107 0.52659829 0.60822243 0.52521434]]\n",
      "0.019119782678748587\n",
      "0.983076098407211\n"
     ]
    }
   ],
   "source": [
    "# 5. Create a 10x10 array with random values and find the minimum and maximum values.\n",
    "arr = np.random.rand(10,10)\n",
    "print(arr)\n",
    "print(arr.min())\n",
    "print(arr.max())"
   ]
  },
  {
   "cell_type": "code",
   "execution_count": 14,
   "id": "4dae3957",
   "metadata": {},
   "outputs": [
    {
     "name": "stdout",
     "output_type": "stream",
     "text": [
      "[0.83852497 0.03143278 0.37362565 0.70037268 0.84556866 0.60153222\n",
      " 0.93964056 0.64409966 0.65740753 0.97650347 0.50010825 0.73923648\n",
      " 0.90025748 0.4164571  0.10276927 0.48119245 0.58399724 0.42690985\n",
      " 0.37523081 0.38300252 0.5675593  0.41636855 0.52311698 0.07799345\n",
      " 0.43387238 0.88365837 0.41964173 0.81460391 0.33671801 0.09687119]\n"
     ]
    },
    {
     "data": {
      "text/plain": [
       "0.5362757831748154"
      ]
     },
     "execution_count": 14,
     "metadata": {},
     "output_type": "execute_result"
    }
   ],
   "source": [
    "# 6. Create a random vector of size 30 and find the mean value.\n",
    "arr = np.random.rand(30)\n",
    "print(arr)\n",
    "arr.mean()"
   ]
  }
 ],
 "metadata": {
  "kernelspec": {
   "display_name": "Python 3 (ipykernel)",
   "language": "python",
   "name": "python3"
  },
  "language_info": {
   "codemirror_mode": {
    "name": "ipython",
    "version": 3
   },
   "file_extension": ".py",
   "mimetype": "text/x-python",
   "name": "python",
   "nbconvert_exporter": "python",
   "pygments_lexer": "ipython3",
   "version": "3.9.13"
  }
 },
 "nbformat": 4,
 "nbformat_minor": 5
}
